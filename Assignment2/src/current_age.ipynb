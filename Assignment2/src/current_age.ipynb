{
 "cells": [
  {
   "cell_type": "code",
   "execution_count": 7,
   "id": "8d055a5d-4466-4dae-ae11-b866e36cd664",
   "metadata": {},
   "outputs": [
    {
     "data": {
      "text/plain": [
       "'\\nd) Create one more feature and add this column to the dataset (you can use mutate function in\\nR for this). For example, you can calculate the current age of the car by subtracting “Year” value\\nfrom the current year. \\n'"
      ]
     },
     "execution_count": 7,
     "metadata": {},
     "output_type": "execute_result"
    }
   ],
   "source": [
    "\"\"\"\n",
    "d) Create one more feature and add this column to the dataset (you can use mutate function in\n",
    "R for this). For example, you can calculate the current age of the car by subtracting “Year” value\n",
    "from the current year. \n",
    "\"\"\""
   ]
  },
  {
   "cell_type": "code",
   "execution_count": 8,
   "id": "a67f0bc4-880d-436c-b83d-572bdaff74bb",
   "metadata": {},
   "outputs": [],
   "source": [
    "import pandas as pd"
   ]
  },
  {
   "cell_type": "code",
   "execution_count": 9,
   "id": "8458347a-77e8-46a7-a87c-97c508881221",
   "metadata": {},
   "outputs": [],
   "source": [
    "import datetime"
   ]
  },
  {
   "cell_type": "code",
   "execution_count": 10,
   "id": "e4e5a44b-aeef-4aff-a123-ad5615f5fed4",
   "metadata": {},
   "outputs": [],
   "source": [
    "cars=pd.read_csv('/Users/nagathanaykancharala/Desktop/PDS/Assignment2/result/encoded_car_results.csv')"
   ]
  },
  {
   "cell_type": "code",
   "execution_count": 11,
   "id": "82fa3c4a-4041-4d1e-8510-8923e7a27fbd",
   "metadata": {},
   "outputs": [],
   "source": [
    "current_year = datetime.datetime.now().year\n",
    "cars['Current_Age'] = current_year - cars['Year']"
   ]
  },
  {
   "cell_type": "code",
   "execution_count": 12,
   "id": "3b044018-3fcb-49e3-b38d-573d55513a3a",
   "metadata": {},
   "outputs": [
    {
     "name": "stdout",
     "output_type": "stream",
     "text": [
      "                               Name    Location  Year  Kilometers_Driven  \\\n",
      "0  Hyundai Creta 1.6 CRDi SX Option        Pune  2015              41000   \n",
      "1                      Honda Jazz V     Chennai  2011              46000   \n",
      "2                 Maruti Ertiga VDI     Chennai  2012              87000   \n",
      "3   Audi A4 New 2.0 TDI Multitronic  Coimbatore  2013              40670   \n",
      "4            Nissan Micra Diesel XV      Jaipur  2013              86999   \n",
      "\n",
      "  Owner_Type  Mileage  Engine   Power  Seats  Price  Fuel_Type_Diesel  \\\n",
      "0      First    19.67  1582.0  126.20    5.0  12.50              True   \n",
      "1      First    13.00  1199.0   88.70    5.0   4.50             False   \n",
      "2      First    20.77  1248.0   88.76    7.0   6.00              True   \n",
      "3     Second    15.20  1968.0  140.80    5.0  17.74              True   \n",
      "4      First    23.08  1461.0   63.10    5.0   3.50              True   \n",
      "\n",
      "   Fuel_Type_Electric  Fuel_Type_Petrol  Transmission_Automatic  \\\n",
      "0               False             False                   False   \n",
      "1               False              True                   False   \n",
      "2               False             False                   False   \n",
      "3               False             False                    True   \n",
      "4               False             False                   False   \n",
      "\n",
      "   Transmission_Manual  Current_Age  \n",
      "0                 True            8  \n",
      "1                 True           12  \n",
      "2                 True           11  \n",
      "3                False           10  \n",
      "4                 True           10  \n"
     ]
    }
   ],
   "source": [
    "print(cars.head())"
   ]
  },
  {
   "cell_type": "code",
   "execution_count": 14,
   "id": "9e4718c9-f7ce-44ef-9336-485b474863b3",
   "metadata": {},
   "outputs": [],
   "source": [
    "cars.to_csv('/Users/nagathanaykancharala/Desktop/PDS/Assignment2/result/current_car_age.csv',index=False)"
   ]
  },
  {
   "cell_type": "code",
   "execution_count": null,
   "id": "a62df563-f4ce-4931-ae7e-3bb606f1b087",
   "metadata": {},
   "outputs": [],
   "source": []
  }
 ],
 "metadata": {
  "kernelspec": {
   "display_name": "Python 3 (ipykernel)",
   "language": "python",
   "name": "python3"
  },
  "language_info": {
   "codemirror_mode": {
    "name": "ipython",
    "version": 3
   },
   "file_extension": ".py",
   "mimetype": "text/x-python",
   "name": "python",
   "nbconvert_exporter": "python",
   "pygments_lexer": "ipython3",
   "version": "3.11.2"
  }
 },
 "nbformat": 4,
 "nbformat_minor": 5
}
