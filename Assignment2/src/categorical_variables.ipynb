{
 "cells": [
  {
   "cell_type": "code",
   "execution_count": null,
   "id": "51b8fbaa-3404-49eb-a957-94d43ac555fb",
   "metadata": {},
   "outputs": [],
   "source": [
    "\"\"\"\n",
    "Change the categorical variables (“Fuel_Type” and “Transmission”) into numerical one hot\n",
    "encoded value\n",
    "\"\"\""
   ]
  },
  {
   "cell_type": "code",
   "execution_count": 6,
   "id": "b44563a9-9326-407d-831a-e55de2ff3df7",
   "metadata": {},
   "outputs": [],
   "source": [
    "import pandas as pd"
   ]
  },
  {
   "cell_type": "code",
   "execution_count": 7,
   "id": "8f9ec121-6ca7-450e-81ad-1703af515634",
   "metadata": {},
   "outputs": [],
   "source": [
    "cars=pd.read_csv('/Users/nagathanaykancharala/Desktop/PDS/Assignment2/cars_clean_data/cars_clean_data.csv')"
   ]
  },
  {
   "cell_type": "code",
   "execution_count": 8,
   "id": "aeaa3f4d-b0b5-4722-8a29-c8c8484ad25e",
   "metadata": {},
   "outputs": [],
   "source": [
    "columns_to_encode = ['Fuel_Type', 'Transmission']\n",
    "cars = pd.get_dummies(cars, columns=columns_to_encode, prefix=columns_to_encode)"
   ]
  },
  {
   "cell_type": "code",
   "execution_count": 9,
   "id": "ecf348ee-c759-4105-9f55-37bd4a8c4157",
   "metadata": {},
   "outputs": [
    {
     "name": "stdout",
     "output_type": "stream",
     "text": [
      "                               Name    Location  Year  Kilometers_Driven  \\\n",
      "0  Hyundai Creta 1.6 CRDi SX Option        Pune  2015              41000   \n",
      "1                      Honda Jazz V     Chennai  2011              46000   \n",
      "2                 Maruti Ertiga VDI     Chennai  2012              87000   \n",
      "3   Audi A4 New 2.0 TDI Multitronic  Coimbatore  2013              40670   \n",
      "4            Nissan Micra Diesel XV      Jaipur  2013              86999   \n",
      "\n",
      "  Owner_Type  Mileage  Engine   Power  Seats  Price  Fuel_Type_Diesel  \\\n",
      "0      First    19.67  1582.0  126.20    5.0  12.50              True   \n",
      "1      First    13.00  1199.0   88.70    5.0   4.50             False   \n",
      "2      First    20.77  1248.0   88.76    7.0   6.00              True   \n",
      "3     Second    15.20  1968.0  140.80    5.0  17.74              True   \n",
      "4      First    23.08  1461.0   63.10    5.0   3.50              True   \n",
      "\n",
      "   Fuel_Type_Electric  Fuel_Type_Petrol  Transmission_Automatic  \\\n",
      "0               False             False                   False   \n",
      "1               False              True                   False   \n",
      "2               False             False                   False   \n",
      "3               False             False                    True   \n",
      "4               False             False                   False   \n",
      "\n",
      "   Transmission_Manual  \n",
      "0                 True  \n",
      "1                 True  \n",
      "2                 True  \n",
      "3                False  \n",
      "4                 True  \n"
     ]
    }
   ],
   "source": [
    "print(cars.head())"
   ]
  },
  {
   "cell_type": "code",
   "execution_count": 10,
   "id": "3e4b3f5e-0df6-4117-a82e-210e278d3a46",
   "metadata": {},
   "outputs": [],
   "source": [
    "cars.to_csv('/Users/nagathanaykancharala/Desktop/PDS/Assignment2/result/encoded_car_results.csv',index=False)"
   ]
  },
  {
   "cell_type": "code",
   "execution_count": null,
   "id": "5e54e58a-f642-4ecf-ab1a-755465d44d3f",
   "metadata": {},
   "outputs": [],
   "source": []
  }
 ],
 "metadata": {
  "kernelspec": {
   "display_name": "Python 3 (ipykernel)",
   "language": "python",
   "name": "python3"
  },
  "language_info": {
   "codemirror_mode": {
    "name": "ipython",
    "version": 3
   },
   "file_extension": ".py",
   "mimetype": "text/x-python",
   "name": "python",
   "nbconvert_exporter": "python",
   "pygments_lexer": "ipython3",
   "version": "3.11.2"
  }
 },
 "nbformat": 4,
 "nbformat_minor": 5
}
