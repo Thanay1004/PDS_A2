{
 "cells": [
  {
   "cell_type": "code",
   "execution_count": 129,
   "id": "d3cdca76-6c2d-4493-a8c2-6d5576815048",
   "metadata": {},
   "outputs": [
    {
     "data": {
      "text/plain": [
       "'\\na) Look for the missing values in all the columns and either impute them (replace with mean,\\nmedian, or mode) or drop them. Justify your action for this task. \\n\\n'"
      ]
     },
     "execution_count": 129,
     "metadata": {},
     "output_type": "execute_result"
    }
   ],
   "source": [
    "\"\"\"\n",
    "a) Look for the missing values in all the columns and either impute them (replace with mean,\n",
    "median, or mode) or drop them. Justify your action for this task. \n",
    "\n",
    "\"\"\""
   ]
  },
  {
   "cell_type": "code",
   "execution_count": 130,
   "id": "bae620eb-9143-4b66-a779-4d161363a536",
   "metadata": {},
   "outputs": [],
   "source": [
    "import pandas as pa\n",
    "import numpy as np"
   ]
  },
  {
   "cell_type": "code",
   "execution_count": 131,
   "id": "1445c642-343e-4210-82d5-3df7922f20c8",
   "metadata": {},
   "outputs": [],
   "source": [
    "cars = pa.read_csv('/Users/nagathanaykancharala/Desktop/PDS/Assignment2/cars_raw_data/raw_data.csv')"
   ]
  },
  {
   "cell_type": "code",
   "execution_count": 132,
   "id": "d5b399a7-ccac-40c8-b6d7-1252e69bf54d",
   "metadata": {},
   "outputs": [
    {
     "data": {
      "text/html": [
       "<div>\n",
       "<style scoped>\n",
       "    .dataframe tbody tr th:only-of-type {\n",
       "        vertical-align: middle;\n",
       "    }\n",
       "\n",
       "    .dataframe tbody tr th {\n",
       "        vertical-align: top;\n",
       "    }\n",
       "\n",
       "    .dataframe thead th {\n",
       "        text-align: right;\n",
       "    }\n",
       "</style>\n",
       "<table border=\"1\" class=\"dataframe\">\n",
       "  <thead>\n",
       "    <tr style=\"text-align: right;\">\n",
       "      <th></th>\n",
       "      <th>Unnamed: 0</th>\n",
       "      <th>Name</th>\n",
       "      <th>Location</th>\n",
       "      <th>Year</th>\n",
       "      <th>Kilometers_Driven</th>\n",
       "      <th>Fuel_Type</th>\n",
       "      <th>Transmission</th>\n",
       "      <th>Owner_Type</th>\n",
       "      <th>Mileage</th>\n",
       "      <th>Engine</th>\n",
       "      <th>Power</th>\n",
       "      <th>Seats</th>\n",
       "      <th>New_Price</th>\n",
       "      <th>Price</th>\n",
       "    </tr>\n",
       "  </thead>\n",
       "  <tbody>\n",
       "    <tr>\n",
       "      <th>0</th>\n",
       "      <td>1</td>\n",
       "      <td>Hyundai Creta 1.6 CRDi SX Option</td>\n",
       "      <td>Pune</td>\n",
       "      <td>2015</td>\n",
       "      <td>41000</td>\n",
       "      <td>Diesel</td>\n",
       "      <td>Manual</td>\n",
       "      <td>First</td>\n",
       "      <td>19.67 kmpl</td>\n",
       "      <td>1582 CC</td>\n",
       "      <td>126.2 bhp</td>\n",
       "      <td>5.0</td>\n",
       "      <td>NaN</td>\n",
       "      <td>12.50</td>\n",
       "    </tr>\n",
       "    <tr>\n",
       "      <th>1</th>\n",
       "      <td>2</td>\n",
       "      <td>Honda Jazz V</td>\n",
       "      <td>Chennai</td>\n",
       "      <td>2011</td>\n",
       "      <td>46000</td>\n",
       "      <td>Petrol</td>\n",
       "      <td>Manual</td>\n",
       "      <td>First</td>\n",
       "      <td>13 km/kg</td>\n",
       "      <td>1199 CC</td>\n",
       "      <td>88.7 bhp</td>\n",
       "      <td>5.0</td>\n",
       "      <td>8.61 Lakh</td>\n",
       "      <td>4.50</td>\n",
       "    </tr>\n",
       "    <tr>\n",
       "      <th>2</th>\n",
       "      <td>3</td>\n",
       "      <td>Maruti Ertiga VDI</td>\n",
       "      <td>Chennai</td>\n",
       "      <td>2012</td>\n",
       "      <td>87000</td>\n",
       "      <td>Diesel</td>\n",
       "      <td>Manual</td>\n",
       "      <td>First</td>\n",
       "      <td>20.77 kmpl</td>\n",
       "      <td>1248 CC</td>\n",
       "      <td>88.76 bhp</td>\n",
       "      <td>7.0</td>\n",
       "      <td>NaN</td>\n",
       "      <td>6.00</td>\n",
       "    </tr>\n",
       "    <tr>\n",
       "      <th>3</th>\n",
       "      <td>4</td>\n",
       "      <td>Audi A4 New 2.0 TDI Multitronic</td>\n",
       "      <td>Coimbatore</td>\n",
       "      <td>2013</td>\n",
       "      <td>40670</td>\n",
       "      <td>Diesel</td>\n",
       "      <td>Automatic</td>\n",
       "      <td>Second</td>\n",
       "      <td>15.2 kmpl</td>\n",
       "      <td>1968 CC</td>\n",
       "      <td>140.8 bhp</td>\n",
       "      <td>5.0</td>\n",
       "      <td>NaN</td>\n",
       "      <td>17.74</td>\n",
       "    </tr>\n",
       "    <tr>\n",
       "      <th>4</th>\n",
       "      <td>6</td>\n",
       "      <td>Nissan Micra Diesel XV</td>\n",
       "      <td>Jaipur</td>\n",
       "      <td>2013</td>\n",
       "      <td>86999</td>\n",
       "      <td>Diesel</td>\n",
       "      <td>Manual</td>\n",
       "      <td>First</td>\n",
       "      <td>23.08 kmpl</td>\n",
       "      <td>1461 CC</td>\n",
       "      <td>63.1 bhp</td>\n",
       "      <td>5.0</td>\n",
       "      <td>NaN</td>\n",
       "      <td>3.50</td>\n",
       "    </tr>\n",
       "    <tr>\n",
       "      <th>...</th>\n",
       "      <td>...</td>\n",
       "      <td>...</td>\n",
       "      <td>...</td>\n",
       "      <td>...</td>\n",
       "      <td>...</td>\n",
       "      <td>...</td>\n",
       "      <td>...</td>\n",
       "      <td>...</td>\n",
       "      <td>...</td>\n",
       "      <td>...</td>\n",
       "      <td>...</td>\n",
       "      <td>...</td>\n",
       "      <td>...</td>\n",
       "      <td>...</td>\n",
       "    </tr>\n",
       "    <tr>\n",
       "      <th>5842</th>\n",
       "      <td>6014</td>\n",
       "      <td>Maruti Swift VDI</td>\n",
       "      <td>Delhi</td>\n",
       "      <td>2014</td>\n",
       "      <td>27365</td>\n",
       "      <td>Diesel</td>\n",
       "      <td>Manual</td>\n",
       "      <td>First</td>\n",
       "      <td>28.4 kmpl</td>\n",
       "      <td>1248 CC</td>\n",
       "      <td>74 bhp</td>\n",
       "      <td>5.0</td>\n",
       "      <td>7.88 Lakh</td>\n",
       "      <td>4.75</td>\n",
       "    </tr>\n",
       "    <tr>\n",
       "      <th>5843</th>\n",
       "      <td>6015</td>\n",
       "      <td>Hyundai Xcent 1.1 CRDi S</td>\n",
       "      <td>Jaipur</td>\n",
       "      <td>2015</td>\n",
       "      <td>100000</td>\n",
       "      <td>Diesel</td>\n",
       "      <td>Manual</td>\n",
       "      <td>First</td>\n",
       "      <td>24.4 kmpl</td>\n",
       "      <td>1120 CC</td>\n",
       "      <td>71 bhp</td>\n",
       "      <td>5.0</td>\n",
       "      <td>NaN</td>\n",
       "      <td>4.00</td>\n",
       "    </tr>\n",
       "    <tr>\n",
       "      <th>5844</th>\n",
       "      <td>6016</td>\n",
       "      <td>Mahindra Xylo D4 BSIV</td>\n",
       "      <td>Jaipur</td>\n",
       "      <td>2012</td>\n",
       "      <td>55000</td>\n",
       "      <td>Diesel</td>\n",
       "      <td>Manual</td>\n",
       "      <td>Second</td>\n",
       "      <td>14.0 kmpl</td>\n",
       "      <td>2498 CC</td>\n",
       "      <td>112 bhp</td>\n",
       "      <td>8.0</td>\n",
       "      <td>NaN</td>\n",
       "      <td>2.90</td>\n",
       "    </tr>\n",
       "    <tr>\n",
       "      <th>5845</th>\n",
       "      <td>6017</td>\n",
       "      <td>Maruti Wagon R VXI</td>\n",
       "      <td>Kolkata</td>\n",
       "      <td>2013</td>\n",
       "      <td>46000</td>\n",
       "      <td>Petrol</td>\n",
       "      <td>Manual</td>\n",
       "      <td>First</td>\n",
       "      <td>18.9 kmpl</td>\n",
       "      <td>998 CC</td>\n",
       "      <td>67.1 bhp</td>\n",
       "      <td>5.0</td>\n",
       "      <td>NaN</td>\n",
       "      <td>2.65</td>\n",
       "    </tr>\n",
       "    <tr>\n",
       "      <th>5846</th>\n",
       "      <td>6018</td>\n",
       "      <td>Chevrolet Beat Diesel</td>\n",
       "      <td>Hyderabad</td>\n",
       "      <td>2011</td>\n",
       "      <td>47000</td>\n",
       "      <td>Diesel</td>\n",
       "      <td>Manual</td>\n",
       "      <td>First</td>\n",
       "      <td>25.44 kmpl</td>\n",
       "      <td>936 CC</td>\n",
       "      <td>57.6 bhp</td>\n",
       "      <td>5.0</td>\n",
       "      <td>NaN</td>\n",
       "      <td>2.50</td>\n",
       "    </tr>\n",
       "  </tbody>\n",
       "</table>\n",
       "<p>5847 rows × 14 columns</p>\n",
       "</div>"
      ],
      "text/plain": [
       "      Unnamed: 0                              Name    Location  Year  \\\n",
       "0              1  Hyundai Creta 1.6 CRDi SX Option        Pune  2015   \n",
       "1              2                      Honda Jazz V     Chennai  2011   \n",
       "2              3                 Maruti Ertiga VDI     Chennai  2012   \n",
       "3              4   Audi A4 New 2.0 TDI Multitronic  Coimbatore  2013   \n",
       "4              6            Nissan Micra Diesel XV      Jaipur  2013   \n",
       "...          ...                               ...         ...   ...   \n",
       "5842        6014                  Maruti Swift VDI       Delhi  2014   \n",
       "5843        6015          Hyundai Xcent 1.1 CRDi S      Jaipur  2015   \n",
       "5844        6016             Mahindra Xylo D4 BSIV      Jaipur  2012   \n",
       "5845        6017                Maruti Wagon R VXI     Kolkata  2013   \n",
       "5846        6018             Chevrolet Beat Diesel   Hyderabad  2011   \n",
       "\n",
       "      Kilometers_Driven Fuel_Type Transmission Owner_Type     Mileage  \\\n",
       "0                 41000    Diesel       Manual      First  19.67 kmpl   \n",
       "1                 46000    Petrol       Manual      First    13 km/kg   \n",
       "2                 87000    Diesel       Manual      First  20.77 kmpl   \n",
       "3                 40670    Diesel    Automatic     Second   15.2 kmpl   \n",
       "4                 86999    Diesel       Manual      First  23.08 kmpl   \n",
       "...                 ...       ...          ...        ...         ...   \n",
       "5842              27365    Diesel       Manual      First   28.4 kmpl   \n",
       "5843             100000    Diesel       Manual      First   24.4 kmpl   \n",
       "5844              55000    Diesel       Manual     Second   14.0 kmpl   \n",
       "5845              46000    Petrol       Manual      First   18.9 kmpl   \n",
       "5846              47000    Diesel       Manual      First  25.44 kmpl   \n",
       "\n",
       "       Engine      Power  Seats  New_Price  Price  \n",
       "0     1582 CC  126.2 bhp    5.0        NaN  12.50  \n",
       "1     1199 CC   88.7 bhp    5.0  8.61 Lakh   4.50  \n",
       "2     1248 CC  88.76 bhp    7.0        NaN   6.00  \n",
       "3     1968 CC  140.8 bhp    5.0        NaN  17.74  \n",
       "4     1461 CC   63.1 bhp    5.0        NaN   3.50  \n",
       "...       ...        ...    ...        ...    ...  \n",
       "5842  1248 CC     74 bhp    5.0  7.88 Lakh   4.75  \n",
       "5843  1120 CC     71 bhp    5.0        NaN   4.00  \n",
       "5844  2498 CC    112 bhp    8.0        NaN   2.90  \n",
       "5845   998 CC   67.1 bhp    5.0        NaN   2.65  \n",
       "5846   936 CC   57.6 bhp    5.0        NaN   2.50  \n",
       "\n",
       "[5847 rows x 14 columns]"
      ]
     },
     "execution_count": 132,
     "metadata": {},
     "output_type": "execute_result"
    }
   ],
   "source": [
    "cars"
   ]
  },
  {
   "cell_type": "code",
   "execution_count": 133,
   "id": "a85e58d3-5f25-4de8-8de5-220ef6cc7e5a",
   "metadata": {},
   "outputs": [],
   "source": [
    "values_missing=cars.isna().sum()"
   ]
  },
  {
   "cell_type": "code",
   "execution_count": 134,
   "id": "6cd898da-a159-4530-8095-0714ad653818",
   "metadata": {},
   "outputs": [],
   "source": [
    "values_missing_num=values_missing[values_missing>0].index"
   ]
  },
  {
   "cell_type": "code",
   "execution_count": 135,
   "id": "b71ebf3b-b493-40d9-983b-7abded68c257",
   "metadata": {},
   "outputs": [
    {
     "name": "stdout",
     "output_type": "stream",
     "text": [
      "Unnamed: 0              0\n",
      "Name                    0\n",
      "Location                0\n",
      "Year                    0\n",
      "Kilometers_Driven       0\n",
      "Fuel_Type               0\n",
      "Transmission            0\n",
      "Owner_Type              0\n",
      "Mileage                 2\n",
      "Engine                 36\n",
      "Power                  36\n",
      "Seats                  38\n",
      "New_Price            5032\n",
      "Price                   0\n",
      "dtype: int64\n"
     ]
    }
   ],
   "source": [
    "print(values_missing)"
   ]
  },
  {
   "cell_type": "code",
   "execution_count": 136,
   "id": "65c9f726-2507-4251-84e1-da4367137c63",
   "metadata": {},
   "outputs": [],
   "source": [
    "values_missing_char=(cars.select_dtypes(include='object').isnull().sum())"
   ]
  },
  {
   "cell_type": "code",
   "execution_count": 137,
   "id": "cab3dc99-6ba9-43dd-94e9-6168e4772ffc",
   "metadata": {},
   "outputs": [
    {
     "name": "stdout",
     "output_type": "stream",
     "text": [
      "Name               0\n",
      "Location           0\n",
      "Fuel_Type          0\n",
      "Transmission       0\n",
      "Owner_Type         0\n",
      "Mileage            2\n",
      "Engine            36\n",
      "Power             36\n",
      "New_Price       5032\n",
      "dtype: int64\n"
     ]
    }
   ],
   "source": [
    "print(values_missing_char)"
   ]
  },
  {
   "cell_type": "code",
   "execution_count": 138,
   "id": "aa02e40e-3f37-4c24-b673-6c371abb51fa",
   "metadata": {},
   "outputs": [
    {
     "data": {
      "text/plain": [
       "'\\nb.Remove the units from some of the attributes and only keep the numerical values (for\\nexample remove kmpl from “Mileage”, CC from “Engine”, bhp from “Power”, and lakh from\\n“New_price”).\\n'"
      ]
     },
     "execution_count": 138,
     "metadata": {},
     "output_type": "execute_result"
    }
   ],
   "source": [
    "\"\"\"\n",
    "b.Remove the units from some of the attributes and only keep the numerical values (for\n",
    "example remove kmpl from “Mileage”, CC from “Engine”, bhp from “Power”, and lakh from\n",
    "“New_price”).\n",
    "\"\"\"\n"
   ]
  },
  {
   "cell_type": "code",
   "execution_count": 139,
   "id": "3f432aeb-d1fd-43e4-a7e1-c1fe3d12371f",
   "metadata": {},
   "outputs": [],
   "source": [
    "cars['Mileage'] = cars['Mileage'].str.replace(r'[^0-9.]', '', regex=True).astype(float)"
   ]
  },
  {
   "cell_type": "code",
   "execution_count": 140,
   "id": "b7e2490d-3c89-4021-9b16-69e85e319980",
   "metadata": {},
   "outputs": [],
   "source": [
    "cars['Engine'] = cars['Engine'].str.replace(r'[^0-9.]', '', regex=True).astype(float)"
   ]
  },
  {
   "cell_type": "code",
   "execution_count": 141,
   "id": "edae9f9f-7629-4627-bf0c-75d8d9fe7d5e",
   "metadata": {},
   "outputs": [],
   "source": [
    "cars['Power'] = cars['Power'].str.replace(r'[^0-9.]', '', regex=True).astype(float)"
   ]
  },
  {
   "cell_type": "code",
   "execution_count": 142,
   "id": "27f8fd9f-406d-4045-b9af-434622f486ae",
   "metadata": {},
   "outputs": [],
   "source": [
    "cars['New_Price'] = cars['New_Price'].str.replace(r'[^0-9.]', '', regex=True).astype(float)"
   ]
  },
  {
   "cell_type": "code",
   "execution_count": 143,
   "id": "7fc814b7-a56a-4605-826a-8a1d2b0d5e29",
   "metadata": {},
   "outputs": [
    {
     "name": "stdout",
     "output_type": "stream",
     "text": [
      "<class 'pandas.core.frame.DataFrame'>\n",
      "RangeIndex: 5847 entries, 0 to 5846\n",
      "Data columns (total 14 columns):\n",
      " #   Column             Non-Null Count  Dtype  \n",
      "---  ------             --------------  -----  \n",
      " 0   Unnamed: 0         5847 non-null   int64  \n",
      " 1   Name               5847 non-null   object \n",
      " 2   Location           5847 non-null   object \n",
      " 3   Year               5847 non-null   int64  \n",
      " 4   Kilometers_Driven  5847 non-null   int64  \n",
      " 5   Fuel_Type          5847 non-null   object \n",
      " 6   Transmission       5847 non-null   object \n",
      " 7   Owner_Type         5847 non-null   object \n",
      " 8   Mileage            5845 non-null   float64\n",
      " 9   Engine             5811 non-null   float64\n",
      " 10  Power              5811 non-null   float64\n",
      " 11  Seats              5809 non-null   float64\n",
      " 12  New_Price          815 non-null    float64\n",
      " 13  Price              5847 non-null   float64\n",
      "dtypes: float64(6), int64(3), object(5)\n",
      "memory usage: 639.6+ KB\n",
      "None\n"
     ]
    }
   ],
   "source": [
    "print(cars.info())"
   ]
  },
  {
   "cell_type": "code",
   "execution_count": 144,
   "id": "dffcfee1-a692-4154-b4dd-22398aafbb2f",
   "metadata": {},
   "outputs": [],
   "source": [
    "cars = cars.iloc[:, 1:]"
   ]
  },
  {
   "cell_type": "code",
   "execution_count": 145,
   "id": "1b598062-5177-4913-ba5a-21a3bcc5e593",
   "metadata": {},
   "outputs": [],
   "source": [
    "cars = cars.drop(columns=['New_Price'])"
   ]
  },
  {
   "cell_type": "code",
   "execution_count": 146,
   "id": "ed7a2db3-259c-4c8a-a74b-4f35b6dfa928",
   "metadata": {},
   "outputs": [],
   "source": [
    "numeric_cols = cars.select_dtypes(include=np.number).columns\n",
    "cars[numeric_cols] = cars[numeric_cols].fillna(cars[numeric_cols].mean())"
   ]
  },
  {
   "cell_type": "code",
   "execution_count": 147,
   "id": "77259296-4923-45ff-816f-cc953f29028a",
   "metadata": {},
   "outputs": [],
   "source": [
    "cars[numeric_cols] = cars[numeric_cols].round(2)"
   ]
  },
  {
   "cell_type": "code",
   "execution_count": 148,
   "id": "9a1c0f41-8500-4a00-b433-612c0c464681",
   "metadata": {},
   "outputs": [],
   "source": [
    "character_cols = cars.select_dtypes(include='object').columns"
   ]
  },
  {
   "cell_type": "code",
   "execution_count": 149,
   "id": "463bc125-94aa-4d04-a5e0-84c11a7b0ec5",
   "metadata": {},
   "outputs": [],
   "source": [
    "for col in character_cols:\n",
    "    cars[col] = cars[col].apply(lambda x: cars[col].mode()[0] if x == '' else x)"
   ]
  },
  {
   "cell_type": "code",
   "execution_count": 150,
   "id": "932b8756-a313-4196-8f5f-00dd10b59ce2",
   "metadata": {},
   "outputs": [
    {
     "name": "stdout",
     "output_type": "stream",
     "text": [
      "Name                 0\n",
      "Location             0\n",
      "Year                 0\n",
      "Kilometers_Driven    0\n",
      "Fuel_Type            0\n",
      "Transmission         0\n",
      "Owner_Type           0\n",
      "Mileage              0\n",
      "Engine               0\n",
      "Power                0\n",
      "Seats                0\n",
      "Price                0\n",
      "dtype: int64\n"
     ]
    }
   ],
   "source": [
    "values_missing_handle = cars.isna().sum()\n",
    "print(values_missing_handle)"
   ]
  },
  {
   "cell_type": "code",
   "execution_count": 151,
   "id": "e3c5b644-d165-478f-8c73-6deb21f136ad",
   "metadata": {},
   "outputs": [],
   "source": [
    "cars.to_csv('/Users/nagathanaykancharala/Desktop/PDS/Assignment2/cars_clean_data/cars_clean_data.csv',index=False)"
   ]
  },
  {
   "cell_type": "code",
   "execution_count": null,
   "id": "21f83538-3f51-4b10-bc51-0d8182e0dab2",
   "metadata": {},
   "outputs": [],
   "source": []
  }
 ],
 "metadata": {
  "kernelspec": {
   "display_name": "Python 3 (ipykernel)",
   "language": "python",
   "name": "python3"
  },
  "language_info": {
   "codemirror_mode": {
    "name": "ipython",
    "version": 3
   },
   "file_extension": ".py",
   "mimetype": "text/x-python",
   "name": "python",
   "nbconvert_exporter": "python",
   "pygments_lexer": "ipython3",
   "version": "3.11.2"
  }
 },
 "nbformat": 4,
 "nbformat_minor": 5
}
